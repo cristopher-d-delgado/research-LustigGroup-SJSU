{
 "cells": [
  {
   "cell_type": "code",
   "execution_count": null,
   "metadata": {},
   "outputs": [],
   "source": [
    "# import libraries \n",
    "import pandas as pd\n",
    "import matplotlib.pyplot as plt \n",
    "import statsmodels as stats\n",
    "import os \n",
    "import zipfile"
   ]
  },
  {
   "cell_type": "code",
   "execution_count": null,
   "metadata": {},
   "outputs": [],
   "source": [
    "### Unzip data if needed \n",
    "\n",
    "\n",
    "\n",
    "# # Define paths for each zip file\n",
    "# zip_files = {\n",
    "#     \"dataset\": \"FullDataset/bondugula_JDO_20230125_SLIM.csv.zip\",\n",
    "#     \"notebook1\": \"FullDataset/full-data-nb.ipynb.zip\",\n",
    "#     \"notebook2\": \"FullDataset/full-data-practice-041223.ipynb.zip\",\n",
    "#     \"notebook3\": \"FullDataset/full-data-practice-061023.ipynb.zip\",\n",
    "#     \"notebook4\": \"FullDataset/full-data-practice-20230225.ipynb.zip\",\n",
    "#     \"unknown_csv\": \"FullDataset/s8-acetyl+sirt-output.csv.zip\"\n",
    "# }\n",
    "\n",
    "# # Function to unzip files\n",
    "# def unzip_file(zip_path, extract_to):\n",
    "#     with zipfile.ZipFile(zip_path, 'r') as zip_ref:\n",
    "#         zip_ref.extractall(extract_to)\n",
    "#     print(f\"Extracted {zip_path} to {extract_to}\")\n",
    "\n",
    "# # Directory to extract all files\n",
    "# extract_dir = \"Unzipped_Files\"\n",
    "\n",
    "# # Create the extraction directory if it doesn't exist\n",
    "# os.makedirs(extract_dir, exist_ok=True)\n",
    "\n",
    "# # Unzip each file\n",
    "# for name, path in zip_files.items():\n",
    "#     output_folder = os.path.join(extract_dir, name)  # Folder based on each file's label\n",
    "#     os.makedirs(output_folder, exist_ok=True)\n",
    "#     unzip_file(path, output_folder)"
   ]
  },
  {
   "cell_type": "code",
   "execution_count": null,
   "metadata": {},
   "outputs": [],
   "source": []
  }
 ],
 "metadata": {
  "language_info": {
   "name": "python"
  }
 },
 "nbformat": 4,
 "nbformat_minor": 2
}
