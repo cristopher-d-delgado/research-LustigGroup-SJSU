{
 "cells": [
  {
   "cell_type": "code",
   "execution_count": 77,
   "metadata": {},
   "outputs": [],
   "source": [
    "# import libraries \n",
    "import pandas as pd\n",
    "import matplotlib.pyplot as plt \n",
    "import statsmodels.api as sm\n",
    "from xgboost import XGBClassifier\n",
    "from sklearn.pipeline import Pipeline\n",
    "from sklearn.linear_model import LogisticRegression\n",
    "from sklearn.svm import SVC\n",
    "from sklearn.ensemble import RandomForestClassifier, AdaBoostClassifier\n",
    "from sklearn.naive_bayes import GaussianNB\n",
    "from sklearn.model_selection import train_test_split, GridSearchCV\n",
    "from sklearn.preprocessing import StandardScaler, OneHotEncoder, OrdinalEncoder\n",
    "from sklearn.metrics import accuracy_score, confusion_matrix, ConfusionMatrixDisplay\n",
    "import os \n",
    "import zipfile"
   ]
  },
  {
   "cell_type": "code",
   "execution_count": 78,
   "metadata": {},
   "outputs": [
    {
     "name": "stdout",
     "output_type": "stream",
     "text": [
      "Extraction directory already exists. No files were extracted.\n"
     ]
    }
   ],
   "source": [
    "## Unzip data if needed \n",
    "\n",
    "# Define paths for each zip file\n",
    "zip_files = {\n",
    "    \"dataset\": \"FullDataset/bondugula_JDO_20230125_SLIM.csv.zip\",\n",
    "    \"notebook1\": \"FullDataset/full-data-nb.ipynb.zip\",\n",
    "    \"notebook2\": \"FullDataset/full-data-practice-041223.ipynb.zip\",\n",
    "    \"notebook3\": \"FullDataset/full-data-practice-061023.ipynb.zip\",\n",
    "    \"notebook4\": \"FullDataset/full-data-practice-20230225.ipynb.zip\",\n",
    "    \"unknown_csv\": \"FullDataset/s8-acetyl+sirt-output.csv.zip\"\n",
    "}\n",
    "\n",
    "# Function to unzip files\n",
    "def unzip_file(zip_path, extract_to):\n",
    "    with zipfile.ZipFile(zip_path, 'r') as zip_ref:\n",
    "        zip_ref.extractall(extract_to)\n",
    "    print(f\"Extracted {zip_path} to {extract_to}\")\n",
    "\n",
    "# Directory to extract all files\n",
    "extract_dir = \"Unzipped_Files\"\n",
    "\n",
    "if not os.path.exists(extract_dir):\n",
    "    # Only execute this block if extract_dir does not exist\n",
    "    os.makedirs(extract_dir, exist_ok=True)\n",
    "\n",
    "    # Unzip each file\n",
    "    for name, path in zip_files.items():\n",
    "        output_folder = os.path.join(extract_dir, name)  # Folder based on each file's label\n",
    "        os.makedirs(output_folder, exist_ok=True)\n",
    "        unzip_file(path, output_folder)\n",
    "    print(\"Extraction Complete!\")\n",
    "else:\n",
    "    print(\"Extraction directory already exists. No files were extracted.\")"
   ]
  },
  {
   "cell_type": "markdown",
   "metadata": {},
   "source": [
    "# View dataset"
   ]
  },
  {
   "cell_type": "markdown",
   "metadata": {},
   "source": [
    "This is from the supplementary material document in Jonathans paper: \n",
    "\n",
    "To obtain the possible secondary structure input values required to calculate Vkabat, the FASTA sequence was input to the fifteen following algorithms: GOR1, GOR3, DPM, PREDATOR, HNNC, SOPM, MLRC, DSC, JPRED, PHD, PROF, SSPRO, YASPIN, JNET, and PSIPRED [3,10]. From this output, we calculated Vkabat for each residue.\n",
    "\n",
    "This implies that we should not use those columns "
   ]
  },
  {
   "cell_type": "code",
   "execution_count": 79,
   "metadata": {},
   "outputs": [
    {
     "name": "stdout",
     "output_type": "stream",
     "text": [
      "Index(['Residue', 'E6', 'E20', 'Protein', 'No.', 'Res', 'isUnstruct', 'E6.1',\n",
      "       'E20.1', 'E22', 'Vkbat', 'chou_fasman', 'sspro_5', 'gor4', 'dsc',\n",
      "       'jnet', 'psipred', '# homologues', 'HAS_H', 'HAS_S', 'HAS_O', 'HAS_U',\n",
      "       'ProteinID'],\n",
      "      dtype='object')\n"
     ]
    },
    {
     "data": {
      "text/html": [
       "<div>\n",
       "<style scoped>\n",
       "    .dataframe tbody tr th:only-of-type {\n",
       "        vertical-align: middle;\n",
       "    }\n",
       "\n",
       "    .dataframe tbody tr th {\n",
       "        vertical-align: top;\n",
       "    }\n",
       "\n",
       "    .dataframe thead th {\n",
       "        text-align: right;\n",
       "    }\n",
       "</style>\n",
       "<table border=\"1\" class=\"dataframe\">\n",
       "  <thead>\n",
       "    <tr style=\"text-align: right;\">\n",
       "      <th></th>\n",
       "      <th>Residue</th>\n",
       "      <th>E6</th>\n",
       "      <th>E20</th>\n",
       "      <th>Protein</th>\n",
       "      <th>No.</th>\n",
       "      <th>Res</th>\n",
       "      <th>isUnstruct</th>\n",
       "      <th>E6.1</th>\n",
       "      <th>E20.1</th>\n",
       "      <th>E22</th>\n",
       "      <th>...</th>\n",
       "      <th>gor4</th>\n",
       "      <th>dsc</th>\n",
       "      <th>jnet</th>\n",
       "      <th>psipred</th>\n",
       "      <th># homologues</th>\n",
       "      <th>HAS_H</th>\n",
       "      <th>HAS_S</th>\n",
       "      <th>HAS_O</th>\n",
       "      <th>HAS_U</th>\n",
       "      <th>ProteinID</th>\n",
       "    </tr>\n",
       "  </thead>\n",
       "  <tbody>\n",
       "    <tr>\n",
       "      <th>0</th>\n",
       "      <td>D</td>\n",
       "      <td>0.926212</td>\n",
       "      <td>0.926212</td>\n",
       "      <td>2BDE</td>\n",
       "      <td>1</td>\n",
       "      <td>D</td>\n",
       "      <td>0.954544</td>\n",
       "      <td>NaN</td>\n",
       "      <td>NaN</td>\n",
       "      <td>NaN</td>\n",
       "      <td>...</td>\n",
       "      <td>Other</td>\n",
       "      <td>Other</td>\n",
       "      <td>Other</td>\n",
       "      <td>Other</td>\n",
       "      <td>6</td>\n",
       "      <td>0</td>\n",
       "      <td>0</td>\n",
       "      <td>0</td>\n",
       "      <td>1</td>\n",
       "      <td>2BDE_0</td>\n",
       "    </tr>\n",
       "    <tr>\n",
       "      <th>1</th>\n",
       "      <td>T</td>\n",
       "      <td>1.307625</td>\n",
       "      <td>2.024379</td>\n",
       "      <td>2BDE</td>\n",
       "      <td>2</td>\n",
       "      <td>T</td>\n",
       "      <td>0.805483</td>\n",
       "      <td>NaN</td>\n",
       "      <td>NaN</td>\n",
       "      <td>NaN</td>\n",
       "      <td>...</td>\n",
       "      <td>Other</td>\n",
       "      <td>Other</td>\n",
       "      <td>Other</td>\n",
       "      <td>Other</td>\n",
       "      <td>6</td>\n",
       "      <td>0</td>\n",
       "      <td>0</td>\n",
       "      <td>0</td>\n",
       "      <td>1</td>\n",
       "      <td>2BDE_0</td>\n",
       "    </tr>\n",
       "    <tr>\n",
       "      <th>2</th>\n",
       "      <td>H</td>\n",
       "      <td>1.321518</td>\n",
       "      <td>1.668090</td>\n",
       "      <td>2BDE</td>\n",
       "      <td>3</td>\n",
       "      <td>H</td>\n",
       "      <td>0.654102</td>\n",
       "      <td>NaN</td>\n",
       "      <td>NaN</td>\n",
       "      <td>NaN</td>\n",
       "      <td>...</td>\n",
       "      <td>Other</td>\n",
       "      <td>Other</td>\n",
       "      <td>Other</td>\n",
       "      <td>Helix</td>\n",
       "      <td>6</td>\n",
       "      <td>0</td>\n",
       "      <td>0</td>\n",
       "      <td>0</td>\n",
       "      <td>1</td>\n",
       "      <td>2BDE_0</td>\n",
       "    </tr>\n",
       "    <tr>\n",
       "      <th>3</th>\n",
       "      <td>K</td>\n",
       "      <td>0.528085</td>\n",
       "      <td>0.845275</td>\n",
       "      <td>2BDE</td>\n",
       "      <td>4</td>\n",
       "      <td>K</td>\n",
       "      <td>0.501600</td>\n",
       "      <td>NaN</td>\n",
       "      <td>NaN</td>\n",
       "      <td>NaN</td>\n",
       "      <td>...</td>\n",
       "      <td>Other</td>\n",
       "      <td>Other</td>\n",
       "      <td>Other</td>\n",
       "      <td>Helix</td>\n",
       "      <td>6</td>\n",
       "      <td>0</td>\n",
       "      <td>0</td>\n",
       "      <td>1</td>\n",
       "      <td>1</td>\n",
       "      <td>2BDE_0</td>\n",
       "    </tr>\n",
       "    <tr>\n",
       "      <th>4</th>\n",
       "      <td>V</td>\n",
       "      <td>0.000000</td>\n",
       "      <td>0.583619</td>\n",
       "      <td>2BDE</td>\n",
       "      <td>5</td>\n",
       "      <td>V</td>\n",
       "      <td>0.280561</td>\n",
       "      <td>NaN</td>\n",
       "      <td>NaN</td>\n",
       "      <td>NaN</td>\n",
       "      <td>...</td>\n",
       "      <td>Sheet</td>\n",
       "      <td>Sheet</td>\n",
       "      <td>Sheet</td>\n",
       "      <td>Helix</td>\n",
       "      <td>6</td>\n",
       "      <td>0</td>\n",
       "      <td>1</td>\n",
       "      <td>0</td>\n",
       "      <td>1</td>\n",
       "      <td>2BDE_0</td>\n",
       "    </tr>\n",
       "  </tbody>\n",
       "</table>\n",
       "<p>5 rows × 23 columns</p>\n",
       "</div>"
      ],
      "text/plain": [
       "  Residue        E6       E20 Protein  No. Res  isUnstruct  E6.1  E20.1  E22  \\\n",
       "0       D  0.926212  0.926212    2BDE    1   D    0.954544   NaN    NaN  NaN   \n",
       "1       T  1.307625  2.024379    2BDE    2   T    0.805483   NaN    NaN  NaN   \n",
       "2       H  1.321518  1.668090    2BDE    3   H    0.654102   NaN    NaN  NaN   \n",
       "3       K  0.528085  0.845275    2BDE    4   K    0.501600   NaN    NaN  NaN   \n",
       "4       V  0.000000  0.583619    2BDE    5   V    0.280561   NaN    NaN  NaN   \n",
       "\n",
       "   ...   gor4    dsc   jnet psipred # homologues HAS_H HAS_S  HAS_O  HAS_U  \\\n",
       "0  ...  Other  Other  Other   Other            6     0     0      0      1   \n",
       "1  ...  Other  Other  Other   Other            6     0     0      0      1   \n",
       "2  ...  Other  Other  Other   Helix            6     0     0      0      1   \n",
       "3  ...  Other  Other  Other   Helix            6     0     0      1      1   \n",
       "4  ...  Sheet  Sheet  Sheet   Helix            6     0     1      0      1   \n",
       "\n",
       "   ProteinID  \n",
       "0     2BDE_0  \n",
       "1     2BDE_0  \n",
       "2     2BDE_0  \n",
       "3     2BDE_0  \n",
       "4     2BDE_0  \n",
       "\n",
       "[5 rows x 23 columns]"
      ]
     },
     "execution_count": 79,
     "metadata": {},
     "output_type": "execute_result"
    }
   ],
   "source": [
    "# Define path to data and define it\n",
    "file_path = \"Unzipped_Files/dataset/bondugula_JDO_20230125_SLIM.csv\"\n",
    "data = pd.read_csv(file_path, index_col=0)\n",
    "\n",
    "# View data\n",
    "print(data.columns)\n",
    "data.head(5)"
   ]
  },
  {
   "cell_type": "code",
   "execution_count": 80,
   "metadata": {},
   "outputs": [
    {
     "name": "stdout",
     "output_type": "stream",
     "text": [
      "Residue\n",
      "L    104325\n",
      "A     89128\n",
      "V     78339\n",
      "G     78022\n",
      "E     76740\n",
      "I     63794\n",
      "K     63438\n",
      "D     63235\n",
      "S     62704\n",
      "R     58134\n",
      "T     58127\n",
      "P     50466\n",
      "N     44861\n",
      "F     44731\n",
      "Q     40570\n",
      "Y     37917\n",
      "H     25411\n",
      "M     24259\n",
      "W     15017\n",
      "C     14052\n",
      "X        14\n",
      "U         2\n",
      "Name: count, dtype: int64\n",
      "E6\n",
      "0.000000    320144\n",
      "0.011408     47089\n",
      "0.020814     14585\n",
      "0.022814     10790\n",
      "0.032219      7273\n",
      "             ...  \n",
      "0.534911         1\n",
      "1.529886         1\n",
      "0.834279         1\n",
      "0.731576         1\n",
      "1.138646         1\n",
      "Name: count, Length: 400798, dtype: int64\n",
      "E20\n",
      "0.000000    199512\n",
      "0.011408     42491\n",
      "0.022814     16578\n",
      "0.020814     10321\n",
      "0.032219      8905\n",
      "             ...  \n",
      "0.302906         1\n",
      "1.455480         1\n",
      "1.567710         1\n",
      "0.812933         1\n",
      "1.968575         1\n",
      "Name: count, Length: 549849, dtype: int64\n",
      "Protein\n",
      "1SMY    2951\n",
      "1W36    2819\n",
      "2FUG    2357\n",
      "1N62    2341\n",
      "1Y5I    2185\n",
      "        ... \n",
      "2BI6      22\n",
      "1K91      21\n",
      "1J5J      21\n",
      "1OC0      19\n",
      "1OQE      16\n",
      "Name: count, Length: 4399, dtype: int64\n",
      "No.\n",
      "16      4609\n",
      "14      4603\n",
      "18      4602\n",
      "15      4602\n",
      "17      4593\n",
      "        ... \n",
      "1472       1\n",
      "1473       1\n",
      "1474       1\n",
      "1475       1\n",
      "1505       1\n",
      "Name: count, Length: 1506, dtype: int64\n",
      "Res\n",
      "L    104325\n",
      "A     89128\n",
      "V     78339\n",
      "G     78022\n",
      "E     76740\n",
      "I     63794\n",
      "K     63438\n",
      "D     63235\n",
      "S     62704\n",
      "R     58134\n",
      "T     58127\n",
      "P     50466\n",
      "N     44861\n",
      "F     44731\n",
      "Q     40570\n",
      "Y     37917\n",
      "H     25411\n",
      "M     24259\n",
      "W     15017\n",
      "C     14052\n",
      "X        14\n",
      "U         2\n",
      "Name: count, dtype: int64\n",
      "isUnstruct\n",
      "1.000000    935\n",
      "0.274135      2\n",
      "0.295107      2\n",
      "0.396097      2\n",
      "0.406581      2\n",
      "           ... \n",
      "0.020203      1\n",
      "0.011003      1\n",
      "0.012267      1\n",
      "0.016810      1\n",
      "0.971816      1\n",
      "Name: count, Length: 1055316, dtype: int64\n",
      "Series([], Name: count, dtype: int64)\n",
      "Series([], Name: count, dtype: int64)\n",
      "Series([], Name: count, dtype: int64)\n",
      "Vkbat\n",
      "2.4    347426\n",
      "1.0    313462\n",
      "3.0    168258\n",
      "6.0     99865\n",
      "4.5     79347\n",
      "4.0     72710\n",
      "9.0     12218\n",
      "Name: count, dtype: int64\n",
      "chou_fasman\n",
      "Helix    462348\n",
      "Sheet    378309\n",
      "Other    252629\n",
      "Name: count, dtype: int64\n",
      "sspro_5\n",
      "Other    473242\n",
      "Helix    407337\n",
      "Sheet    212707\n",
      "Name: count, dtype: int64\n",
      "gor4\n",
      "Other    498158\n",
      "Helix    393129\n",
      "Sheet    201999\n",
      "Name: count, dtype: int64\n",
      "dsc\n",
      "Other    525437\n",
      "Helix    336928\n",
      "Sheet    230921\n",
      "Name: count, dtype: int64\n",
      "jnet\n",
      "Other    523973\n",
      "Helix    380830\n",
      "Sheet    188483\n",
      "Name: count, dtype: int64\n",
      "psipred\n",
      "Helix    433313\n",
      "Other    431789\n",
      "Sheet    228184\n",
      "Name: count, dtype: int64\n",
      "# homologues\n",
      "2       222854\n",
      "4       130162\n",
      "3        89191\n",
      "6        77896\n",
      "8        63604\n",
      "         ...  \n",
      "160         61\n",
      "627         60\n",
      "1174        59\n",
      "359         48\n",
      "71          35\n",
      "Name: count, Length: 174, dtype: int64\n",
      "HAS_H\n",
      "0    645624\n",
      "1    447662\n",
      "Name: count, dtype: int64\n",
      "HAS_S\n",
      "0    832047\n",
      "1    261239\n",
      "Name: count, dtype: int64\n",
      "HAS_O\n",
      "0    804647\n",
      "1    288639\n",
      "Name: count, dtype: int64\n",
      "HAS_U\n",
      "0    800495\n",
      "1    292791\n",
      "Name: count, dtype: int64\n",
      "ProteinID\n",
      "1TWF_1    1419\n",
      "1SMY_3    1392\n",
      "1V97_0    1298\n",
      "1T3T_0    1275\n",
      "1MUK_0    1256\n",
      "          ... \n",
      "2BI6_0      22\n",
      "1J5J_0      21\n",
      "1K91_0      21\n",
      "1OC0_0      19\n",
      "1OQE_0      16\n",
      "Name: count, Length: 4750, dtype: int64\n"
     ]
    }
   ],
   "source": [
    "for col in data.columns: \n",
    "    print(data[col].value_counts())"
   ]
  },
  {
   "cell_type": "code",
   "execution_count": 81,
   "metadata": {},
   "outputs": [
    {
     "name": "stdout",
     "output_type": "stream",
     "text": [
      "Protein Info:\n",
      "['2BDE_0' '2V3Q_0' '1KK1_0' ... '1IVS_0' '1W36_2' '2FUG_7']\n",
      "Number of proteins: 4750\n"
     ]
    }
   ],
   "source": [
    "# Discover how many proteins there are \n",
    "print('Protein Info:')\n",
    "proteins = data['ProteinID'].unique()\n",
    "print(proteins)\n",
    "print(\"Number of proteins:\", proteins.shape[0])"
   ]
  },
  {
   "cell_type": "code",
   "execution_count": 82,
   "metadata": {},
   "outputs": [
    {
     "name": "stdout",
     "output_type": "stream",
     "text": [
      "Residue                T\n",
      "E6              1.307625\n",
      "E20             2.024379\n",
      "Protein             2BDE\n",
      "No.                    2\n",
      "Res                    T\n",
      "isUnstruct      0.805483\n",
      "E6.1                 NaN\n",
      "E20.1                NaN\n",
      "E22                  NaN\n",
      "Vkbat                2.4\n",
      "chou_fasman        Sheet\n",
      "sspro_5            Other\n",
      "gor4               Other\n",
      "dsc                Other\n",
      "jnet               Other\n",
      "psipred            Other\n",
      "# homologues           6\n",
      "HAS_H                  0\n",
      "HAS_S                  0\n",
      "HAS_O                  0\n",
      "HAS_U                  1\n",
      "ProteinID         2BDE_0\n",
      "Name: 1, dtype: object\n"
     ]
    }
   ],
   "source": [
    "print(data.iloc[1, :])"
   ]
  },
  {
   "cell_type": "code",
   "execution_count": 83,
   "metadata": {},
   "outputs": [
    {
     "data": {
      "text/html": [
       "<div>\n",
       "<style scoped>\n",
       "    .dataframe tbody tr th:only-of-type {\n",
       "        vertical-align: middle;\n",
       "    }\n",
       "\n",
       "    .dataframe tbody tr th {\n",
       "        vertical-align: top;\n",
       "    }\n",
       "\n",
       "    .dataframe thead th {\n",
       "        text-align: right;\n",
       "    }\n",
       "</style>\n",
       "<table border=\"1\" class=\"dataframe\">\n",
       "  <thead>\n",
       "    <tr style=\"text-align: right;\">\n",
       "      <th></th>\n",
       "      <th>E6</th>\n",
       "      <th>E20</th>\n",
       "      <th>isUnstruct</th>\n",
       "      <th>Vkbat</th>\n",
       "    </tr>\n",
       "  </thead>\n",
       "  <tbody>\n",
       "    <tr>\n",
       "      <th>E6</th>\n",
       "      <td>1.000000</td>\n",
       "      <td>0.908737</td>\n",
       "      <td>0.078586</td>\n",
       "      <td>-0.009384</td>\n",
       "    </tr>\n",
       "    <tr>\n",
       "      <th>E20</th>\n",
       "      <td>0.908737</td>\n",
       "      <td>1.000000</td>\n",
       "      <td>0.056172</td>\n",
       "      <td>-0.001326</td>\n",
       "    </tr>\n",
       "    <tr>\n",
       "      <th>isUnstruct</th>\n",
       "      <td>0.078586</td>\n",
       "      <td>0.056172</td>\n",
       "      <td>1.000000</td>\n",
       "      <td>-0.101881</td>\n",
       "    </tr>\n",
       "    <tr>\n",
       "      <th>Vkbat</th>\n",
       "      <td>-0.009384</td>\n",
       "      <td>-0.001326</td>\n",
       "      <td>-0.101881</td>\n",
       "      <td>1.000000</td>\n",
       "    </tr>\n",
       "  </tbody>\n",
       "</table>\n",
       "</div>"
      ],
      "text/plain": [
       "                  E6       E20  isUnstruct     Vkbat\n",
       "E6          1.000000  0.908737    0.078586 -0.009384\n",
       "E20         0.908737  1.000000    0.056172 -0.001326\n",
       "isUnstruct  0.078586  0.056172    1.000000 -0.101881\n",
       "Vkbat      -0.009384 -0.001326   -0.101881  1.000000"
      ]
     },
     "execution_count": 83,
     "metadata": {},
     "output_type": "execute_result"
    }
   ],
   "source": [
    "numeric_data = data[[\"E6\", \"E20\", \"isUnstruct\", \"Vkbat\"]]\n",
    "\n",
    "numeric_data.corr()"
   ]
  },
  {
   "cell_type": "markdown",
   "metadata": {},
   "source": [
    "We know the significant descriptors are:\n",
    "\n",
    "**Homology Descriptors:**\n",
    "* E6 (6 term sequence entropy)\n",
    "* isUnstruct (Disorder Propensity)\n",
    "> Algorithmn used to predict the propensity of a residue from sequence to be disordered (Lobanov & Galzitskaya, 2011)\n",
    "* Vkabat (Secondary Structure Variability)\n",
    "> Used to describe variability of regions on antibodies (Wu & Kabat, 1970; Valdar, 2020)\n",
    "\n",
    "From Nepal et al: \n",
    "* E20 (20 term sequence entropy)\n",
    "> This descriptor has been named inferior to E6. Use E6 instead (Nepal et al, 2015). Also explains the higher correlation.\n",
    "* Utilized AA creating 19 dummy variables\n",
    "\n",
    "From Google:\n",
    "'chou_fasman', 'sspro_5', 'gor4', 'dsc', 'jnet', 'psipred' are all different algorithmns for secondary protein structure prediction. \n",
    "Target:\n",
    "* The target that we need to define is the switch. This occurs when HAS_H, HAS_S, HAS_O, HAS_U added together is greater than 1. We need to make this column"
   ]
  },
  {
   "cell_type": "code",
   "execution_count": 84,
   "metadata": {},
   "outputs": [
    {
     "data": {
      "text/html": [
       "<div>\n",
       "<style scoped>\n",
       "    .dataframe tbody tr th:only-of-type {\n",
       "        vertical-align: middle;\n",
       "    }\n",
       "\n",
       "    .dataframe tbody tr th {\n",
       "        vertical-align: top;\n",
       "    }\n",
       "\n",
       "    .dataframe thead th {\n",
       "        text-align: right;\n",
       "    }\n",
       "</style>\n",
       "<table border=\"1\" class=\"dataframe\">\n",
       "  <thead>\n",
       "    <tr style=\"text-align: right;\">\n",
       "      <th></th>\n",
       "      <th>HAS_H</th>\n",
       "      <th>HAS_S</th>\n",
       "      <th>HAS_O</th>\n",
       "      <th>HAS_U</th>\n",
       "      <th>switch</th>\n",
       "    </tr>\n",
       "  </thead>\n",
       "  <tbody>\n",
       "    <tr>\n",
       "      <th>0</th>\n",
       "      <td>0</td>\n",
       "      <td>0</td>\n",
       "      <td>0</td>\n",
       "      <td>1</td>\n",
       "      <td>0</td>\n",
       "    </tr>\n",
       "    <tr>\n",
       "      <th>1</th>\n",
       "      <td>0</td>\n",
       "      <td>0</td>\n",
       "      <td>0</td>\n",
       "      <td>1</td>\n",
       "      <td>0</td>\n",
       "    </tr>\n",
       "    <tr>\n",
       "      <th>2</th>\n",
       "      <td>0</td>\n",
       "      <td>0</td>\n",
       "      <td>0</td>\n",
       "      <td>1</td>\n",
       "      <td>0</td>\n",
       "    </tr>\n",
       "  </tbody>\n",
       "</table>\n",
       "</div>"
      ],
      "text/plain": [
       "   HAS_H  HAS_S  HAS_O  HAS_U  switch\n",
       "0      0      0      0      1       0\n",
       "1      0      0      0      1       0\n",
       "2      0      0      0      1       0"
      ]
     },
     "execution_count": 84,
     "metadata": {},
     "output_type": "execute_result"
    }
   ],
   "source": [
    "# Create a copy dataframe of region of interest \n",
    "switch_det = data.iloc[:, -5:-1]\n",
    "\n",
    "# Define new column that detects the switch occuring \n",
    "switch_det['switch'] = (switch_det.sum(axis=1) > 1).astype(int) # Create binar column, True = 1 and False = 0\n",
    "\n",
    "# Print values\n",
    "switch_det.head(3)"
   ]
  },
  {
   "cell_type": "code",
   "execution_count": 85,
   "metadata": {},
   "outputs": [
    {
     "name": "stdout",
     "output_type": "stream",
     "text": [
      "switch\n",
      "0    914237\n",
      "1    179049\n",
      "Name: count, dtype: int64\n"
     ]
    }
   ],
   "source": [
    "print(switch_det['switch'].value_counts())"
   ]
  },
  {
   "cell_type": "code",
   "execution_count": 86,
   "metadata": {},
   "outputs": [
    {
     "data": {
      "text/html": [
       "<div>\n",
       "<style scoped>\n",
       "    .dataframe tbody tr th:only-of-type {\n",
       "        vertical-align: middle;\n",
       "    }\n",
       "\n",
       "    .dataframe tbody tr th {\n",
       "        vertical-align: top;\n",
       "    }\n",
       "\n",
       "    .dataframe thead th {\n",
       "        text-align: right;\n",
       "    }\n",
       "</style>\n",
       "<table border=\"1\" class=\"dataframe\">\n",
       "  <thead>\n",
       "    <tr style=\"text-align: right;\">\n",
       "      <th></th>\n",
       "      <th>Residue</th>\n",
       "      <th>E6</th>\n",
       "      <th>E20</th>\n",
       "      <th>Protein</th>\n",
       "      <th>No.</th>\n",
       "      <th>Res</th>\n",
       "      <th>isUnstruct</th>\n",
       "      <th>E6.1</th>\n",
       "      <th>E20.1</th>\n",
       "      <th>E22</th>\n",
       "      <th>...</th>\n",
       "      <th>dsc</th>\n",
       "      <th>jnet</th>\n",
       "      <th>psipred</th>\n",
       "      <th># homologues</th>\n",
       "      <th>HAS_H</th>\n",
       "      <th>HAS_S</th>\n",
       "      <th>HAS_O</th>\n",
       "      <th>HAS_U</th>\n",
       "      <th>ProteinID</th>\n",
       "      <th>switch</th>\n",
       "    </tr>\n",
       "  </thead>\n",
       "  <tbody>\n",
       "    <tr>\n",
       "      <th>0</th>\n",
       "      <td>D</td>\n",
       "      <td>0.926212</td>\n",
       "      <td>0.926212</td>\n",
       "      <td>2BDE</td>\n",
       "      <td>1</td>\n",
       "      <td>D</td>\n",
       "      <td>0.954544</td>\n",
       "      <td>NaN</td>\n",
       "      <td>NaN</td>\n",
       "      <td>NaN</td>\n",
       "      <td>...</td>\n",
       "      <td>Other</td>\n",
       "      <td>Other</td>\n",
       "      <td>Other</td>\n",
       "      <td>6</td>\n",
       "      <td>0</td>\n",
       "      <td>0</td>\n",
       "      <td>0</td>\n",
       "      <td>1</td>\n",
       "      <td>2BDE_0</td>\n",
       "      <td>0</td>\n",
       "    </tr>\n",
       "    <tr>\n",
       "      <th>1</th>\n",
       "      <td>T</td>\n",
       "      <td>1.307625</td>\n",
       "      <td>2.024379</td>\n",
       "      <td>2BDE</td>\n",
       "      <td>2</td>\n",
       "      <td>T</td>\n",
       "      <td>0.805483</td>\n",
       "      <td>NaN</td>\n",
       "      <td>NaN</td>\n",
       "      <td>NaN</td>\n",
       "      <td>...</td>\n",
       "      <td>Other</td>\n",
       "      <td>Other</td>\n",
       "      <td>Other</td>\n",
       "      <td>6</td>\n",
       "      <td>0</td>\n",
       "      <td>0</td>\n",
       "      <td>0</td>\n",
       "      <td>1</td>\n",
       "      <td>2BDE_0</td>\n",
       "      <td>0</td>\n",
       "    </tr>\n",
       "    <tr>\n",
       "      <th>2</th>\n",
       "      <td>H</td>\n",
       "      <td>1.321518</td>\n",
       "      <td>1.668090</td>\n",
       "      <td>2BDE</td>\n",
       "      <td>3</td>\n",
       "      <td>H</td>\n",
       "      <td>0.654102</td>\n",
       "      <td>NaN</td>\n",
       "      <td>NaN</td>\n",
       "      <td>NaN</td>\n",
       "      <td>...</td>\n",
       "      <td>Other</td>\n",
       "      <td>Other</td>\n",
       "      <td>Helix</td>\n",
       "      <td>6</td>\n",
       "      <td>0</td>\n",
       "      <td>0</td>\n",
       "      <td>0</td>\n",
       "      <td>1</td>\n",
       "      <td>2BDE_0</td>\n",
       "      <td>0</td>\n",
       "    </tr>\n",
       "    <tr>\n",
       "      <th>3</th>\n",
       "      <td>K</td>\n",
       "      <td>0.528085</td>\n",
       "      <td>0.845275</td>\n",
       "      <td>2BDE</td>\n",
       "      <td>4</td>\n",
       "      <td>K</td>\n",
       "      <td>0.501600</td>\n",
       "      <td>NaN</td>\n",
       "      <td>NaN</td>\n",
       "      <td>NaN</td>\n",
       "      <td>...</td>\n",
       "      <td>Other</td>\n",
       "      <td>Other</td>\n",
       "      <td>Helix</td>\n",
       "      <td>6</td>\n",
       "      <td>0</td>\n",
       "      <td>0</td>\n",
       "      <td>1</td>\n",
       "      <td>1</td>\n",
       "      <td>2BDE_0</td>\n",
       "      <td>1</td>\n",
       "    </tr>\n",
       "    <tr>\n",
       "      <th>4</th>\n",
       "      <td>V</td>\n",
       "      <td>0.000000</td>\n",
       "      <td>0.583619</td>\n",
       "      <td>2BDE</td>\n",
       "      <td>5</td>\n",
       "      <td>V</td>\n",
       "      <td>0.280561</td>\n",
       "      <td>NaN</td>\n",
       "      <td>NaN</td>\n",
       "      <td>NaN</td>\n",
       "      <td>...</td>\n",
       "      <td>Sheet</td>\n",
       "      <td>Sheet</td>\n",
       "      <td>Helix</td>\n",
       "      <td>6</td>\n",
       "      <td>0</td>\n",
       "      <td>1</td>\n",
       "      <td>0</td>\n",
       "      <td>1</td>\n",
       "      <td>2BDE_0</td>\n",
       "      <td>1</td>\n",
       "    </tr>\n",
       "  </tbody>\n",
       "</table>\n",
       "<p>5 rows × 24 columns</p>\n",
       "</div>"
      ],
      "text/plain": [
       "  Residue        E6       E20 Protein  No. Res  isUnstruct  E6.1  E20.1  E22  \\\n",
       "0       D  0.926212  0.926212    2BDE    1   D    0.954544   NaN    NaN  NaN   \n",
       "1       T  1.307625  2.024379    2BDE    2   T    0.805483   NaN    NaN  NaN   \n",
       "2       H  1.321518  1.668090    2BDE    3   H    0.654102   NaN    NaN  NaN   \n",
       "3       K  0.528085  0.845275    2BDE    4   K    0.501600   NaN    NaN  NaN   \n",
       "4       V  0.000000  0.583619    2BDE    5   V    0.280561   NaN    NaN  NaN   \n",
       "\n",
       "   ...    dsc   jnet psipred # homologues HAS_H HAS_S HAS_O  HAS_U  ProteinID  \\\n",
       "0  ...  Other  Other   Other            6     0     0     0      1     2BDE_0   \n",
       "1  ...  Other  Other   Other            6     0     0     0      1     2BDE_0   \n",
       "2  ...  Other  Other   Helix            6     0     0     0      1     2BDE_0   \n",
       "3  ...  Other  Other   Helix            6     0     0     1      1     2BDE_0   \n",
       "4  ...  Sheet  Sheet   Helix            6     0     1     0      1     2BDE_0   \n",
       "\n",
       "   switch  \n",
       "0       0  \n",
       "1       0  \n",
       "2       0  \n",
       "3       1  \n",
       "4       1  \n",
       "\n",
       "[5 rows x 24 columns]"
      ]
     },
     "execution_count": 86,
     "metadata": {},
     "output_type": "execute_result"
    }
   ],
   "source": [
    "# Add our switch column to the main one \n",
    "data2 = data.copy()\n",
    "\n",
    "data2 = pd.concat([data2, switch_det['switch']], axis=1)\n",
    "data2.head(5)"
   ]
  },
  {
   "cell_type": "markdown",
   "metadata": {},
   "source": [
    "# Data Pre-Processing"
   ]
  },
  {
   "cell_type": "markdown",
   "metadata": {},
   "source": [
    "## Lets check our columns have valid data"
   ]
  },
  {
   "cell_type": "code",
   "execution_count": 87,
   "metadata": {},
   "outputs": [
    {
     "name": "stdout",
     "output_type": "stream",
     "text": [
      "Missing data:\n",
      "Residue               0\n",
      "E6                 3710\n",
      "E20                3710\n",
      "Protein               0\n",
      "No.                   0\n",
      "Res                   0\n",
      "isUnstruct            0\n",
      "E6.1            1093286\n",
      "E20.1           1093286\n",
      "E22             1093286\n",
      "Vkbat                 0\n",
      "chou_fasman           0\n",
      "sspro_5               0\n",
      "gor4                  0\n",
      "dsc                   0\n",
      "jnet                  0\n",
      "psipred               0\n",
      "# homologues          0\n",
      "HAS_H                 0\n",
      "HAS_S                 0\n",
      "HAS_O                 0\n",
      "HAS_U                 0\n",
      "ProteinID             0\n",
      "switch                0\n",
      "dtype: int64\n"
     ]
    }
   ],
   "source": [
    "# See if there is any missing values \n",
    "print(\"Missing data:\")\n",
    "print(data2.isnull().sum())"
   ]
  },
  {
   "cell_type": "markdown",
   "metadata": {},
   "source": [
    "Based off Jonathan's notebook E6.1, E20.1, E22 are not used at all. We can drop these. As far as the 3710 entries missing we can drop those rows as well."
   ]
  },
  {
   "cell_type": "code",
   "execution_count": 88,
   "metadata": {},
   "outputs": [],
   "source": [
    "# Drop those missing data values\n",
    "data2.drop(columns=['E6.1', 'E20.1', 'E22'], inplace=True)\n",
    "data2.dropna(inplace=True)"
   ]
  },
  {
   "cell_type": "markdown",
   "metadata": {},
   "source": [
    "# Normalize data "
   ]
  },
  {
   "cell_type": "code",
   "execution_count": 89,
   "metadata": {},
   "outputs": [
    {
     "data": {
      "text/html": [
       "<div>\n",
       "<style scoped>\n",
       "    .dataframe tbody tr th:only-of-type {\n",
       "        vertical-align: middle;\n",
       "    }\n",
       "\n",
       "    .dataframe tbody tr th {\n",
       "        vertical-align: top;\n",
       "    }\n",
       "\n",
       "    .dataframe thead th {\n",
       "        text-align: right;\n",
       "    }\n",
       "</style>\n",
       "<table border=\"1\" class=\"dataframe\">\n",
       "  <thead>\n",
       "    <tr style=\"text-align: right;\">\n",
       "      <th></th>\n",
       "      <th>E6</th>\n",
       "      <th>E20</th>\n",
       "      <th>No.</th>\n",
       "      <th>isUnstruct</th>\n",
       "      <th>Vkbat</th>\n",
       "      <th># homologues</th>\n",
       "      <th>HAS_H</th>\n",
       "      <th>HAS_S</th>\n",
       "      <th>HAS_O</th>\n",
       "      <th>HAS_U</th>\n",
       "      <th>switch</th>\n",
       "    </tr>\n",
       "  </thead>\n",
       "  <tbody>\n",
       "    <tr>\n",
       "      <th>count</th>\n",
       "      <td>1.089576e+06</td>\n",
       "      <td>1.089576e+06</td>\n",
       "      <td>1.089576e+06</td>\n",
       "      <td>1.089576e+06</td>\n",
       "      <td>1.089576e+06</td>\n",
       "      <td>1.089576e+06</td>\n",
       "      <td>1.089576e+06</td>\n",
       "      <td>1.089576e+06</td>\n",
       "      <td>1.089576e+06</td>\n",
       "      <td>1.089576e+06</td>\n",
       "      <td>1.089576e+06</td>\n",
       "    </tr>\n",
       "    <tr>\n",
       "      <th>mean</th>\n",
       "      <td>4.613143e-01</td>\n",
       "      <td>7.981048e-01</td>\n",
       "      <td>1.800823e+02</td>\n",
       "      <td>2.363689e-01</td>\n",
       "      <td>2.752236e+00</td>\n",
       "      <td>1.674654e+01</td>\n",
       "      <td>4.094391e-01</td>\n",
       "      <td>2.390545e-01</td>\n",
       "      <td>2.641165e-01</td>\n",
       "      <td>2.677060e-01</td>\n",
       "      <td>1.638463e-01</td>\n",
       "    </tr>\n",
       "    <tr>\n",
       "      <th>std</th>\n",
       "      <td>6.268500e-01</td>\n",
       "      <td>9.191382e-01</td>\n",
       "      <td>1.657662e+02</td>\n",
       "      <td>2.300717e-01</td>\n",
       "      <td>1.629132e+00</td>\n",
       "      <td>3.857491e+01</td>\n",
       "      <td>4.917306e-01</td>\n",
       "      <td>4.265063e-01</td>\n",
       "      <td>4.408618e-01</td>\n",
       "      <td>4.427637e-01</td>\n",
       "      <td>3.701362e-01</td>\n",
       "    </tr>\n",
       "    <tr>\n",
       "      <th>min</th>\n",
       "      <td>0.000000e+00</td>\n",
       "      <td>0.000000e+00</td>\n",
       "      <td>0.000000e+00</td>\n",
       "      <td>5.706888e-04</td>\n",
       "      <td>1.000000e+00</td>\n",
       "      <td>2.000000e+00</td>\n",
       "      <td>0.000000e+00</td>\n",
       "      <td>0.000000e+00</td>\n",
       "      <td>0.000000e+00</td>\n",
       "      <td>0.000000e+00</td>\n",
       "      <td>0.000000e+00</td>\n",
       "    </tr>\n",
       "    <tr>\n",
       "      <th>25%</th>\n",
       "      <td>0.000000e+00</td>\n",
       "      <td>2.083201e-02</td>\n",
       "      <td>6.200000e+01</td>\n",
       "      <td>6.579392e-02</td>\n",
       "      <td>1.000000e+00</td>\n",
       "      <td>3.000000e+00</td>\n",
       "      <td>0.000000e+00</td>\n",
       "      <td>0.000000e+00</td>\n",
       "      <td>0.000000e+00</td>\n",
       "      <td>0.000000e+00</td>\n",
       "      <td>0.000000e+00</td>\n",
       "    </tr>\n",
       "    <tr>\n",
       "      <th>50%</th>\n",
       "      <td>8.079314e-02</td>\n",
       "      <td>3.989436e-01</td>\n",
       "      <td>1.340000e+02</td>\n",
       "      <td>1.516327e-01</td>\n",
       "      <td>2.400000e+00</td>\n",
       "      <td>6.000000e+00</td>\n",
       "      <td>0.000000e+00</td>\n",
       "      <td>0.000000e+00</td>\n",
       "      <td>0.000000e+00</td>\n",
       "      <td>0.000000e+00</td>\n",
       "      <td>0.000000e+00</td>\n",
       "    </tr>\n",
       "    <tr>\n",
       "      <th>75%</th>\n",
       "      <td>8.515738e-01</td>\n",
       "      <td>1.383933e+00</td>\n",
       "      <td>2.480000e+02</td>\n",
       "      <td>3.318337e-01</td>\n",
       "      <td>3.000000e+00</td>\n",
       "      <td>1.500000e+01</td>\n",
       "      <td>1.000000e+00</td>\n",
       "      <td>0.000000e+00</td>\n",
       "      <td>1.000000e+00</td>\n",
       "      <td>1.000000e+00</td>\n",
       "      <td>0.000000e+00</td>\n",
       "    </tr>\n",
       "    <tr>\n",
       "      <th>max</th>\n",
       "      <td>2.581541e+00</td>\n",
       "      <td>4.207811e+00</td>\n",
       "      <td>1.505000e+03</td>\n",
       "      <td>1.000000e+00</td>\n",
       "      <td>9.000000e+00</td>\n",
       "      <td>1.174000e+03</td>\n",
       "      <td>1.000000e+00</td>\n",
       "      <td>1.000000e+00</td>\n",
       "      <td>1.000000e+00</td>\n",
       "      <td>1.000000e+00</td>\n",
       "      <td>1.000000e+00</td>\n",
       "    </tr>\n",
       "  </tbody>\n",
       "</table>\n",
       "</div>"
      ],
      "text/plain": [
       "                 E6           E20           No.    isUnstruct         Vkbat  \\\n",
       "count  1.089576e+06  1.089576e+06  1.089576e+06  1.089576e+06  1.089576e+06   \n",
       "mean   4.613143e-01  7.981048e-01  1.800823e+02  2.363689e-01  2.752236e+00   \n",
       "std    6.268500e-01  9.191382e-01  1.657662e+02  2.300717e-01  1.629132e+00   \n",
       "min    0.000000e+00  0.000000e+00  0.000000e+00  5.706888e-04  1.000000e+00   \n",
       "25%    0.000000e+00  2.083201e-02  6.200000e+01  6.579392e-02  1.000000e+00   \n",
       "50%    8.079314e-02  3.989436e-01  1.340000e+02  1.516327e-01  2.400000e+00   \n",
       "75%    8.515738e-01  1.383933e+00  2.480000e+02  3.318337e-01  3.000000e+00   \n",
       "max    2.581541e+00  4.207811e+00  1.505000e+03  1.000000e+00  9.000000e+00   \n",
       "\n",
       "       # homologues         HAS_H         HAS_S         HAS_O         HAS_U  \\\n",
       "count  1.089576e+06  1.089576e+06  1.089576e+06  1.089576e+06  1.089576e+06   \n",
       "mean   1.674654e+01  4.094391e-01  2.390545e-01  2.641165e-01  2.677060e-01   \n",
       "std    3.857491e+01  4.917306e-01  4.265063e-01  4.408618e-01  4.427637e-01   \n",
       "min    2.000000e+00  0.000000e+00  0.000000e+00  0.000000e+00  0.000000e+00   \n",
       "25%    3.000000e+00  0.000000e+00  0.000000e+00  0.000000e+00  0.000000e+00   \n",
       "50%    6.000000e+00  0.000000e+00  0.000000e+00  0.000000e+00  0.000000e+00   \n",
       "75%    1.500000e+01  1.000000e+00  0.000000e+00  1.000000e+00  1.000000e+00   \n",
       "max    1.174000e+03  1.000000e+00  1.000000e+00  1.000000e+00  1.000000e+00   \n",
       "\n",
       "             switch  \n",
       "count  1.089576e+06  \n",
       "mean   1.638463e-01  \n",
       "std    3.701362e-01  \n",
       "min    0.000000e+00  \n",
       "25%    0.000000e+00  \n",
       "50%    0.000000e+00  \n",
       "75%    0.000000e+00  \n",
       "max    1.000000e+00  "
      ]
     },
     "execution_count": 89,
     "metadata": {},
     "output_type": "execute_result"
    }
   ],
   "source": [
    "# View data descriptive stats\n",
    "data2.describe()"
   ]
  },
  {
   "cell_type": "markdown",
   "metadata": {},
   "source": [
    "As expected all different scales. We need to scale the data so its on a normal distribution. We also need to One Hot encode all the categorical data"
   ]
  },
  {
   "cell_type": "code",
   "execution_count": null,
   "metadata": {},
   "outputs": [
    {
     "data": {
      "image/png": "[encoded data removed]",
      "text/plain": [
       "<Figure size 1200x600 with 4 Axes>"
      ]
     },
     "metadata": {},
     "output_type": "display_data"
    }
   ],
   "source": [
    "# Seperate features from target \n",
    "data_quantitative = data2[[\"E6\", 'E20', \"isUnstruct\", \"Vkbat\"]]\n",
    "data_quantitative2 = data2[[\"E6\", 'isUnstruct', 'Vkbat']]\n",
    "\n",
    "# View data distribution \n",
    "fig, axes = plt.subplots(nrows=2, ncols=2, figsize=(12, 6))\n",
    "\n",
    "# Flatten axes array to iterate over it \n",
    "axes = axes.flatten()\n",
    "\n",
    "# PLot histograms for each column and check for empty plots\n",
    "for i, col in enumerate(data_quantitative2.columns):\n",
    "    ax = axes[i]\n",
    "    data_quantitative2[col].plot(kind='hist', bins=15, edgecolor='black', ax=ax)\n",
    "    ax.set_title(f\"{col} Distribution\", fontsize=15)\n",
    "    ax.set_xlabel('Value', fontsize=15)\n",
    "    ax.set_ylabel('Frequency', fontsize=15)\n",
    "    ax.tick_params(axis='y', labelsize=12) # Adjust y-axis font size\n",
    "\n",
    "# Hide remaining empty subplots \n",
    "for j in range(len(data_quantitative2.columns), len(axes)): \n",
    "    axes[j].set_visible(False)\n",
    "\n",
    "# Add titles and padding \n",
    "plt.suptitle('Data Distribution', fontsize=20) \n",
    "plt.tight_layout(pad=2.0)\n",
    "plt.subplots_adjust(top=0.9)\n",
    "plt.show()"
   ]
  },
  {
   "cell_type": "code",
   "execution_count": 115,
   "metadata": {},
   "outputs": [
    {
     "data": {
      "image/png": "[encoded data removed]",
      "text/plain": [
       "<Figure size 1000x600 with 1 Axes>"
      ]
     },
     "metadata": {},
     "output_type": "display_data"
    }
   ],
   "source": [
    "import matplotlib.ticker as ticker\n",
    "# Create boxplots for each column\n",
    "plt.figure(figsize=(10, 6))\n",
    "boxplot = data_quantitative2.boxplot(patch_artist=True, figsize=(6, 3))\n",
    "\n",
    "# Add titles and labels with custom font sizes\n",
    "plt.title('Boxplots of Descriptors', fontsize=20)\n",
    "plt.ylabel('Value', fontsize=15)\n",
    "plt.xlabel('Feature', fontsize=15)\n",
    "plt.xticks(rotation=45, fontsize=12)\n",
    "plt.yticks(fontsize=12)\n",
    "\n",
    "# Add minor ticks \n",
    "ax = plt.gca() \n",
    "ax.yaxis.set_major_locator(ticker.MultipleLocator(base=1))\n",
    "ax.yaxis.set_minor_locator(ticker.MultipleLocator(base=.5)) \n",
    "#ax.yaxis.set_minor_formatter(ticker.NullFormatter())\n",
    "\n",
    "plt.grid(True, which='both', axis='y', linestyle='--', linewidth=0.7)\n",
    "\n",
    "# Show plot\n",
    "plt.show()\n"
   ]
  },
  {
   "cell_type": "markdown",
   "metadata": {},
   "source": [
    "Its pretty clear the data is skewed. This can be problematic "
   ]
  },
  {
   "cell_type": "code",
   "execution_count": 91,
   "metadata": {},
   "outputs": [
    {
     "data": {
      "text/html": [
       "<div>\n",
       "<style scoped>\n",
       "    .dataframe tbody tr th:only-of-type {\n",
       "        vertical-align: middle;\n",
       "    }\n",
       "\n",
       "    .dataframe tbody tr th {\n",
       "        vertical-align: top;\n",
       "    }\n",
       "\n",
       "    .dataframe thead th {\n",
       "        text-align: right;\n",
       "    }\n",
       "</style>\n",
       "<table border=\"1\" class=\"dataframe\">\n",
       "  <thead>\n",
       "    <tr style=\"text-align: right;\">\n",
       "      <th></th>\n",
       "      <th>E6</th>\n",
       "      <th>E20</th>\n",
       "      <th>isUnstruct</th>\n",
       "      <th>Vkbat</th>\n",
       "    </tr>\n",
       "  </thead>\n",
       "  <tbody>\n",
       "    <tr>\n",
       "      <th>0</th>\n",
       "      <td>0.741642</td>\n",
       "      <td>0.139378</td>\n",
       "      <td>3.121528</td>\n",
       "      <td>-1.075564</td>\n",
       "    </tr>\n",
       "    <tr>\n",
       "      <th>1</th>\n",
       "      <td>1.350102</td>\n",
       "      <td>1.334157</td>\n",
       "      <td>2.473639</td>\n",
       "      <td>-0.216211</td>\n",
       "    </tr>\n",
       "    <tr>\n",
       "      <th>2</th>\n",
       "      <td>1.372264</td>\n",
       "      <td>0.946523</td>\n",
       "      <td>1.815667</td>\n",
       "      <td>1.072820</td>\n",
       "    </tr>\n",
       "  </tbody>\n",
       "</table>\n",
       "</div>"
      ],
      "text/plain": [
       "         E6       E20  isUnstruct     Vkbat\n",
       "0  0.741642  0.139378    3.121528 -1.075564\n",
       "1  1.350102  1.334157    2.473639 -0.216211\n",
       "2  1.372264  0.946523    1.815667  1.072820"
      ]
     },
     "execution_count": 91,
     "metadata": {},
     "output_type": "execute_result"
    }
   ],
   "source": [
    "# Initialize Standard Scaler \n",
    "scaler = StandardScaler()\n",
    "\n",
    "# Fit and transform data \n",
    "standardized_data = scaler.fit_transform(data_quantitative)\n",
    "\n",
    "# Convert to dataframe\n",
    "standardized_df = pd.DataFrame(standardized_data, columns=data_quantitative.columns, index=data2.index)\n",
    "standardized_df.head(3)"
   ]
  },
  {
   "cell_type": "code",
   "execution_count": 25,
   "metadata": {},
   "outputs": [],
   "source": [
    "# Remember that we need to drop E20 as its highly correlated with E6 and E6 was determiend a better descriptor\n",
    "standardized_df.drop(columns=[\"E20\"], inplace=True)"
   ]
  },
  {
   "cell_type": "code",
   "execution_count": 118,
   "metadata": {},
   "outputs": [
    {
     "data": {
      "image/png": "[encoded data removed]",
      "text/plain": [
       "<Figure size 1200x600 with 4 Axes>"
      ]
     },
     "metadata": {},
     "output_type": "display_data"
    }
   ],
   "source": [
    "# View data distribution \n",
    "fig, axes = plt.subplots(nrows=2, ncols=2, figsize=(12, 6))\n",
    "\n",
    "# Flatten axes array to iterate over it \n",
    "axes = axes.flatten()\n",
    "\n",
    "# PLot histograms for each column and check for empty plots\n",
    "for i, col in enumerate(standardized_df.columns):\n",
    "    ax = axes[i]\n",
    "    standardized_df[col].plot(kind='hist', bins=15, edgecolor='black', ax=ax)\n",
    "    ax.set_title(f\"{col} Distribution\", fontsize=15)\n",
    "    ax.set_xlabel('Value', fontsize=15)\n",
    "    ax.set_ylabel('Frequency', fontsize=15)\n",
    "    ax.tick_params(axis='y', labelsize=12) # Adjust y-axis font size\n",
    "\n",
    "# Hide remaining empty subplots \n",
    "for j in range(len(standardized_df.columns), len(axes)): \n",
    "    axes[j].set_visible(False)\n",
    "\n",
    "# Add titles and padding \n",
    "plt.suptitle('Data Distribution', fontsize=20) \n",
    "plt.tight_layout(pad=2.0)\n",
    "plt.subplots_adjust(top=0.9)\n",
    "plt.show()"
   ]
  },
  {
   "cell_type": "code",
   "execution_count": 119,
   "metadata": {},
   "outputs": [
    {
     "data": {
      "image/png": "[encoded data removed]",
      "text/plain": [
       "<Figure size 1000x600 with 1 Axes>"
      ]
     },
     "metadata": {},
     "output_type": "display_data"
    }
   ],
   "source": [
    "# Create boxplots for each column\n",
    "plt.figure(figsize=(10, 6))\n",
    "boxplot = standardized_df.boxplot(patch_artist=True, figsize=(6, 3))\n",
    "\n",
    "# Add titles and labels with custom font sizes\n",
    "plt.title('Boxplots of Descriptors', fontsize=20)\n",
    "plt.ylabel('Value', fontsize=15)\n",
    "plt.xlabel('Feature', fontsize=15)\n",
    "plt.xticks(rotation=45, fontsize=12)\n",
    "plt.yticks(fontsize=12)\n",
    "\n",
    "# Add minor ticks \n",
    "ax = plt.gca() \n",
    "ax.yaxis.set_major_locator(ticker.MultipleLocator(base=1))\n",
    "ax.yaxis.set_minor_locator(ticker.MultipleLocator(base=.5)) \n",
    "#ax.yaxis.set_minor_formatter(ticker.NullFormatter())\n",
    "\n",
    "plt.grid(True, which='both', axis='y', linestyle='--', linewidth=0.7)\n",
    "\n",
    "# Show plot\n",
    "plt.show()"
   ]
  },
  {
   "cell_type": "markdown",
   "metadata": {},
   "source": [
    "## One Hot Encode categorical data (Qualitative features)"
   ]
  },
  {
   "cell_type": "markdown",
   "metadata": {},
   "source": [
    "The categorical data that Jonathan used were 'chou_fasman', 'sspro_5', 'gor4', 'dsc', 'jnet', 'psipred'"
   ]
  },
  {
   "cell_type": "code",
   "execution_count": 26,
   "metadata": {},
   "outputs": [
    {
     "name": "stdout",
     "output_type": "stream",
     "text": [
      "['Other' 'Sheet' 'Helix']\n",
      "['Other' 'Sheet' 'Helix']\n",
      "['Other' 'Sheet' 'Helix']\n",
      "['Other' 'Sheet' 'Helix']\n",
      "['Other' 'Sheet' 'Helix']\n",
      "['Other' 'Helix' 'Sheet']\n"
     ]
    }
   ],
   "source": [
    "print(data2['chou_fasman'].unique())\n",
    "print(data2['sspro_5'].unique())\n",
    "print(data2['gor4'].unique())\n",
    "print(data2['dsc'].unique())\n",
    "print(data2['jnet'].unique())\n",
    "print(data2['psipred'].unique())"
   ]
  },
  {
   "cell_type": "code",
   "execution_count": 27,
   "metadata": {},
   "outputs": [
    {
     "name": "stdout",
     "output_type": "stream",
     "text": [
      "[[0. 0. 0. ... 0. 0. 0.]\n",
      " [0. 1. 0. ... 0. 0. 0.]\n",
      " [0. 1. 0. ... 0. 1. 0.]\n",
      " ...\n",
      " [0. 0. 0. ... 0. 0. 0.]\n",
      " [0. 0. 0. ... 0. 0. 0.]\n",
      " [0. 0. 0. ... 0. 0. 0.]]\n",
      "1089576\n",
      "[array(['Helix', 'Other', 'Sheet'], dtype=object), array(['Helix', 'Other', 'Sheet'], dtype=object), array(['Helix', 'Other', 'Sheet'], dtype=object), array(['Helix', 'Other', 'Sheet'], dtype=object), array(['Helix', 'Other', 'Sheet'], dtype=object), array(['Helix', 'Other', 'Sheet'], dtype=object)]\n"
     ]
    }
   ],
   "source": [
    "# Initialize One Hot Encoder\n",
    "ohe = OneHotEncoder(\n",
    "    drop=['Other', 'Other', 'Other', 'Other', 'Other', 'Other']\n",
    ")\n",
    "\n",
    "# Encode categorical data\n",
    "ohe_features_array = ohe.fit_transform(data2[['chou_fasman', 'sspro_5', 'gor4', 'dsc', 'jnet', 'psipred']]).toarray()\n",
    "\n",
    "# View result\n",
    "print(ohe_features_array)\n",
    "print(len(ohe_features_array))\n",
    "\n",
    "feature_labels = ohe.categories_\n",
    "print(feature_labels)"
   ]
  },
  {
   "cell_type": "code",
   "execution_count": 28,
   "metadata": {},
   "outputs": [
    {
     "name": "stdout",
     "output_type": "stream",
     "text": [
      "['chou_fasman_Helix' 'chou_fasman_Sheet' 'sspro_5_Helix' 'sspro_5_Sheet'\n",
      " 'gor4_Helix' 'gor4_Sheet' 'dsc_Helix' 'dsc_Sheet' 'jnet_Helix'\n",
      " 'jnet_Sheet' 'psipred_Helix' 'psipred_Sheet']\n"
     ]
    }
   ],
   "source": [
    "feature_labels = ohe.get_feature_names_out(['chou_fasman', 'sspro_5', 'gor4', 'dsc', 'jnet', 'psipred'])\n",
    "print(feature_labels)"
   ]
  },
  {
   "cell_type": "code",
   "execution_count": 29,
   "metadata": {},
   "outputs": [
    {
     "data": {
      "text/html": [
       "<div>\n",
       "<style scoped>\n",
       "    .dataframe tbody tr th:only-of-type {\n",
       "        vertical-align: middle;\n",
       "    }\n",
       "\n",
       "    .dataframe tbody tr th {\n",
       "        vertical-align: top;\n",
       "    }\n",
       "\n",
       "    .dataframe thead th {\n",
       "        text-align: right;\n",
       "    }\n",
       "</style>\n",
       "<table border=\"1\" class=\"dataframe\">\n",
       "  <thead>\n",
       "    <tr style=\"text-align: right;\">\n",
       "      <th></th>\n",
       "      <th>chou_fasman_Helix</th>\n",
       "      <th>chou_fasman_Sheet</th>\n",
       "      <th>sspro_5_Helix</th>\n",
       "      <th>sspro_5_Sheet</th>\n",
       "      <th>gor4_Helix</th>\n",
       "      <th>gor4_Sheet</th>\n",
       "      <th>dsc_Helix</th>\n",
       "      <th>dsc_Sheet</th>\n",
       "      <th>jnet_Helix</th>\n",
       "      <th>jnet_Sheet</th>\n",
       "      <th>psipred_Helix</th>\n",
       "      <th>psipred_Sheet</th>\n",
       "    </tr>\n",
       "  </thead>\n",
       "  <tbody>\n",
       "    <tr>\n",
       "      <th>0</th>\n",
       "      <td>0.0</td>\n",
       "      <td>0.0</td>\n",
       "      <td>0.0</td>\n",
       "      <td>0.0</td>\n",
       "      <td>0.0</td>\n",
       "      <td>0.0</td>\n",
       "      <td>0.0</td>\n",
       "      <td>0.0</td>\n",
       "      <td>0.0</td>\n",
       "      <td>0.0</td>\n",
       "      <td>0.0</td>\n",
       "      <td>0.0</td>\n",
       "    </tr>\n",
       "    <tr>\n",
       "      <th>1</th>\n",
       "      <td>0.0</td>\n",
       "      <td>1.0</td>\n",
       "      <td>0.0</td>\n",
       "      <td>0.0</td>\n",
       "      <td>0.0</td>\n",
       "      <td>0.0</td>\n",
       "      <td>0.0</td>\n",
       "      <td>0.0</td>\n",
       "      <td>0.0</td>\n",
       "      <td>0.0</td>\n",
       "      <td>0.0</td>\n",
       "      <td>0.0</td>\n",
       "    </tr>\n",
       "    <tr>\n",
       "      <th>2</th>\n",
       "      <td>0.0</td>\n",
       "      <td>1.0</td>\n",
       "      <td>0.0</td>\n",
       "      <td>0.0</td>\n",
       "      <td>0.0</td>\n",
       "      <td>0.0</td>\n",
       "      <td>0.0</td>\n",
       "      <td>0.0</td>\n",
       "      <td>0.0</td>\n",
       "      <td>0.0</td>\n",
       "      <td>1.0</td>\n",
       "      <td>0.0</td>\n",
       "    </tr>\n",
       "  </tbody>\n",
       "</table>\n",
       "</div>"
      ],
      "text/plain": [
       "   chou_fasman_Helix  chou_fasman_Sheet  sspro_5_Helix  sspro_5_Sheet  \\\n",
       "0                0.0                0.0            0.0            0.0   \n",
       "1                0.0                1.0            0.0            0.0   \n",
       "2                0.0                1.0            0.0            0.0   \n",
       "\n",
       "   gor4_Helix  gor4_Sheet  dsc_Helix  dsc_Sheet  jnet_Helix  jnet_Sheet  \\\n",
       "0         0.0         0.0        0.0        0.0         0.0         0.0   \n",
       "1         0.0         0.0        0.0        0.0         0.0         0.0   \n",
       "2         0.0         0.0        0.0        0.0         0.0         0.0   \n",
       "\n",
       "   psipred_Helix  psipred_Sheet  \n",
       "0            0.0            0.0  \n",
       "1            0.0            0.0  \n",
       "2            1.0            0.0  "
      ]
     },
     "execution_count": 29,
     "metadata": {},
     "output_type": "execute_result"
    }
   ],
   "source": [
    "ohe_df = pd.DataFrame(ohe_features_array, columns=feature_labels, index=data2.index)\n",
    "ohe_df.head(3)"
   ]
  },
  {
   "cell_type": "markdown",
   "metadata": {},
   "source": [
    "## Convert Oridanal to Numeric and scale it"
   ]
  },
  {
   "cell_type": "code",
   "execution_count": 30,
   "metadata": {},
   "outputs": [
    {
     "name": "stdout",
     "output_type": "stream",
     "text": [
      "[[ 2.]\n",
      " [16.]\n",
      " [ 6.]\n",
      " ...\n",
      " [12.]\n",
      " [ 0.]\n",
      " [ 0.]]\n",
      "1089576\n",
      "[array(['A', 'C', 'D', 'E', 'F', 'G', 'H', 'I', 'K', 'L', 'M', 'N', 'P',\n",
      "       'Q', 'R', 'S', 'T', 'U', 'V', 'W', 'X', 'Y'], dtype=object)]\n"
     ]
    }
   ],
   "source": [
    "# Initialize Ordinal encoder\n",
    "ord = OrdinalEncoder()\n",
    "\n",
    "# Encode Ordinal data which is Residue\n",
    "ord_features_array = ord.fit_transform(data2[[\"Residue\"]])\n",
    "\n",
    "# View result\n",
    "print(ord_features_array)\n",
    "print(len(ord_features_array))\n",
    "\n",
    "feature_labels_ord = ord.categories_\n",
    "print(feature_labels_ord)"
   ]
  },
  {
   "cell_type": "code",
   "execution_count": 31,
   "metadata": {},
   "outputs": [
    {
     "name": "stdout",
     "output_type": "stream",
     "text": [
      "['Residue']\n"
     ]
    }
   ],
   "source": [
    "feature_labels_ord = ord.get_feature_names_out([\"Residue\"])\n",
    "print(feature_labels_ord)"
   ]
  },
  {
   "cell_type": "code",
   "execution_count": 32,
   "metadata": {},
   "outputs": [
    {
     "data": {
      "text/html": [
       "<div>\n",
       "<style scoped>\n",
       "    .dataframe tbody tr th:only-of-type {\n",
       "        vertical-align: middle;\n",
       "    }\n",
       "\n",
       "    .dataframe tbody tr th {\n",
       "        vertical-align: top;\n",
       "    }\n",
       "\n",
       "    .dataframe thead th {\n",
       "        text-align: right;\n",
       "    }\n",
       "</style>\n",
       "<table border=\"1\" class=\"dataframe\">\n",
       "  <thead>\n",
       "    <tr style=\"text-align: right;\">\n",
       "      <th></th>\n",
       "      <th>Residue</th>\n",
       "    </tr>\n",
       "  </thead>\n",
       "  <tbody>\n",
       "    <tr>\n",
       "      <th>0</th>\n",
       "      <td>2.0</td>\n",
       "    </tr>\n",
       "    <tr>\n",
       "      <th>1</th>\n",
       "      <td>16.0</td>\n",
       "    </tr>\n",
       "    <tr>\n",
       "      <th>2</th>\n",
       "      <td>6.0</td>\n",
       "    </tr>\n",
       "  </tbody>\n",
       "</table>\n",
       "</div>"
      ],
      "text/plain": [
       "   Residue\n",
       "0      2.0\n",
       "1     16.0\n",
       "2      6.0"
      ]
     },
     "execution_count": 32,
     "metadata": {},
     "output_type": "execute_result"
    }
   ],
   "source": [
    "ord_df = pd.DataFrame(ord_features_array, columns=feature_labels_ord, index=data2.index)\n",
    "ord_df.head(3)"
   ]
  },
  {
   "cell_type": "code",
   "execution_count": 33,
   "metadata": {},
   "outputs": [
    {
     "data": {
      "text/html": [
       "<div>\n",
       "<style scoped>\n",
       "    .dataframe tbody tr th:only-of-type {\n",
       "        vertical-align: middle;\n",
       "    }\n",
       "\n",
       "    .dataframe tbody tr th {\n",
       "        vertical-align: top;\n",
       "    }\n",
       "\n",
       "    .dataframe thead th {\n",
       "        text-align: right;\n",
       "    }\n",
       "</style>\n",
       "<table border=\"1\" class=\"dataframe\">\n",
       "  <thead>\n",
       "    <tr style=\"text-align: right;\">\n",
       "      <th></th>\n",
       "      <th>Residue</th>\n",
       "    </tr>\n",
       "  </thead>\n",
       "  <tbody>\n",
       "    <tr>\n",
       "      <th>0</th>\n",
       "      <td>-1.216395</td>\n",
       "    </tr>\n",
       "    <tr>\n",
       "      <th>1</th>\n",
       "      <td>1.157032</td>\n",
       "    </tr>\n",
       "    <tr>\n",
       "      <th>2</th>\n",
       "      <td>-0.538273</td>\n",
       "    </tr>\n",
       "  </tbody>\n",
       "</table>\n",
       "</div>"
      ],
      "text/plain": [
       "    Residue\n",
       "0 -1.216395\n",
       "1  1.157032\n",
       "2 -0.538273"
      ]
     },
     "execution_count": 33,
     "metadata": {},
     "output_type": "execute_result"
    }
   ],
   "source": [
    "### Another oridinal column is the # of Homologues. Its already in numeric format we just need to scale it.\n",
    "# ord_data = pd.concat([ord_df, data2[\"# homologues\"]], axis=1)\n",
    "# print(ord_data.isnull().sum())\n",
    "ord_data = ord_df\n",
    "\n",
    "# Scale ordinal data \n",
    "ord_standard = scaler.fit_transform(ord_data)\n",
    "\n",
    "# Convert to dataframe\n",
    "standardized_ord_df = pd.DataFrame(ord_standard, columns=ord_data.columns, index=data2.index)\n",
    "standardized_ord_df.head(3)\n"
   ]
  },
  {
   "cell_type": "markdown",
   "metadata": {},
   "source": [
    "### Merge all preprocessing and drop columns we no longer need for Modeling"
   ]
  },
  {
   "cell_type": "code",
   "execution_count": 34,
   "metadata": {},
   "outputs": [
    {
     "data": {
      "text/html": [
       "<div>\n",
       "<style scoped>\n",
       "    .dataframe tbody tr th:only-of-type {\n",
       "        vertical-align: middle;\n",
       "    }\n",
       "\n",
       "    .dataframe tbody tr th {\n",
       "        vertical-align: top;\n",
       "    }\n",
       "\n",
       "    .dataframe thead th {\n",
       "        text-align: right;\n",
       "    }\n",
       "</style>\n",
       "<table border=\"1\" class=\"dataframe\">\n",
       "  <thead>\n",
       "    <tr style=\"text-align: right;\">\n",
       "      <th></th>\n",
       "      <th>E6</th>\n",
       "      <th>isUnstruct</th>\n",
       "      <th>Vkbat</th>\n",
       "      <th>switch</th>\n",
       "    </tr>\n",
       "  </thead>\n",
       "  <tbody>\n",
       "    <tr>\n",
       "      <th>0</th>\n",
       "      <td>0.741642</td>\n",
       "      <td>3.121528</td>\n",
       "      <td>-1.075564</td>\n",
       "      <td>0</td>\n",
       "    </tr>\n",
       "    <tr>\n",
       "      <th>1</th>\n",
       "      <td>1.350102</td>\n",
       "      <td>2.473639</td>\n",
       "      <td>-0.216211</td>\n",
       "      <td>0</td>\n",
       "    </tr>\n",
       "    <tr>\n",
       "      <th>2</th>\n",
       "      <td>1.372264</td>\n",
       "      <td>1.815667</td>\n",
       "      <td>1.072820</td>\n",
       "      <td>0</td>\n",
       "    </tr>\n",
       "  </tbody>\n",
       "</table>\n",
       "</div>"
      ],
      "text/plain": [
       "         E6  isUnstruct     Vkbat  switch\n",
       "0  0.741642    3.121528 -1.075564       0\n",
       "1  1.350102    2.473639 -0.216211       0\n",
       "2  1.372264    1.815667  1.072820       0"
      ]
     },
     "execution_count": 34,
     "metadata": {},
     "output_type": "execute_result"
    }
   ],
   "source": [
    "# Merge all the preprocessed data and target \n",
    "merged_df = pd.concat([standardized_df, data2['switch']], axis=1)\n",
    "merged_df.head(3)"
   ]
  },
  {
   "cell_type": "code",
   "execution_count": 35,
   "metadata": {},
   "outputs": [
    {
     "name": "stdout",
     "output_type": "stream",
     "text": [
      "Index(['E6', 'isUnstruct', 'Vkbat', 'switch'], dtype='object')\n"
     ]
    }
   ],
   "source": [
    "print(merged_df.columns)"
   ]
  },
  {
   "cell_type": "code",
   "execution_count": 56,
   "metadata": {},
   "outputs": [
    {
     "data": {
      "image/png": "[encoded data removed]",
      "text/plain": [
       "<Figure size 1000x600 with 3 Axes>"
      ]
     },
     "metadata": {},
     "output_type": "display_data"
    }
   ],
   "source": [
    "import scipy.stats as stats\n",
    "# Assess normality of features \n",
    "columns = ['E6', 'isUnstruct', 'Vkbat'] \n",
    "\n",
    "# Create the normal probability plot for each column\n",
    "plt.figure(figsize=(10, 6))\n",
    "\n",
    "for i, col in enumerate(columns):\n",
    "    plt.subplot(1, 3, i+1)  # Create a subplot for each column\n",
    "    stats.probplot(merged_df.iloc[:, i], dist=\"norm\", plot=plt)\n",
    "    plt.title(f'Normal Probability Plot for {col}')\n",
    "\n",
    "plt.tight_layout()\n",
    "plt.show()"
   ]
  },
  {
   "cell_type": "code",
   "execution_count": 59,
   "metadata": {},
   "outputs": [
    {
     "data": {
      "text/plain": [
       "array([[<Axes: title={'center': 'E6'}>,\n",
       "        <Axes: title={'center': 'isUnstruct'}>],\n",
       "       [<Axes: title={'center': 'Vkbat'}>, <Axes: >]], dtype=object)"
      ]
     },
     "execution_count": 59,
     "metadata": {},
     "output_type": "execute_result"
    },
    {
     "data": {
      "image/png": "[encoded data removed]",
      "text/plain": [
       "<Figure size 1000x700 with 4 Axes>"
      ]
     },
     "metadata": {},
     "output_type": "display_data"
    }
   ],
   "source": [
    "# View histograms\n",
    "df = merged_df.iloc[:, :-1]\n",
    "\n",
    "# plot histograms \n",
    "df.hist(bins=15, edgecolor='black', figsize=(10, 7))\n"
   ]
  },
  {
   "cell_type": "markdown",
   "metadata": {},
   "source": [
    "# Modeling Quantitative with Qualitative Descriptors"
   ]
  },
  {
   "cell_type": "code",
   "execution_count": 36,
   "metadata": {},
   "outputs": [],
   "source": [
    "# Define features and target\n",
    "X = merged_df.iloc[:, :-1]\n",
    "y = merged_df.iloc[:, -1]\n",
    "\n",
    "# Add intercept for modeling purposes\n",
    "X = sm.add_constant(X)\n",
    "\n",
    "# Create Train test split based on features and target\n",
    "X_train, X_test, y_train, y_test = train_test_split(X, y, test_size=.20, random_state=42, shuffle=True)"
   ]
  },
  {
   "cell_type": "markdown",
   "metadata": {},
   "source": [
    "## Logit Classifier"
   ]
  },
  {
   "cell_type": "code",
   "execution_count": 37,
   "metadata": {},
   "outputs": [
    {
     "name": "stdout",
     "output_type": "stream",
     "text": [
      "Optimization terminated successfully.\n",
      "         Current function value: 0.442518\n",
      "         Iterations 6\n",
      "                           Logit Regression Results                           \n",
      "==============================================================================\n",
      "Dep. Variable:                 switch   No. Observations:               871660\n",
      "Model:                          Logit   Df Residuals:                   871656\n",
      "Method:                           MLE   Df Model:                            3\n",
      "Date:                Sun, 17 Nov 2024   Pseudo R-squ.:                0.007604\n",
      "Time:                        19:32:16   Log-Likelihood:            -3.8573e+05\n",
      "converged:                       True   LL-Null:                   -3.8868e+05\n",
      "Covariance Type:            nonrobust   LLR p-value:                     0.000\n",
      "==============================================================================\n",
      "                 coef    std err          z      P>|z|      [0.025      0.975]\n",
      "------------------------------------------------------------------------------\n",
      "const         -1.6456      0.003   -561.381      0.000      -1.651      -1.640\n",
      "E6             0.0133      0.003      4.610      0.000       0.008       0.019\n",
      "isUnstruct     0.1880      0.003     69.032      0.000       0.183       0.193\n",
      "Vkbat          0.1205      0.003     42.785      0.000       0.115       0.126\n",
      "==============================================================================\n",
      "\n"
     ]
    }
   ],
   "source": [
    "# Create Logistic model\n",
    "model = sm.Logit(y_train, X_train)\n",
    "result = model.fit()\n",
    "\n",
    "# Review summary of training\n",
    "print(result.summary())\n",
    "print()"
   ]
  },
  {
   "cell_type": "code",
   "execution_count": 38,
   "metadata": {},
   "outputs": [
    {
     "name": "stdout",
     "output_type": "stream",
     "text": [
      "Accuracy Train: 0.8362\n",
      "Accuracy Test: 0.8359\n"
     ]
    }
   ],
   "source": [
    "# Predict probabilities for the test data and train data\n",
    "y_pred_prob_test = result.predict(X_test)\n",
    "y_pred_prob_train = result.predict(X_train)\n",
    "\n",
    "# Convert probabilities to binary predictions (0 or 1)\n",
    "y_pred_test = (y_pred_prob_test > 0.5).astype(int)  # Using 0.5 as the threshold for now\n",
    "y_pred_train = (y_pred_prob_train > 0.5).astype(int)\n",
    "\n",
    "# Compare predicted values to actual values\n",
    "acc_test = accuracy_score(y_test, y_pred_test)\n",
    "acc_train = accuracy_score(y_train, y_pred_train)\n",
    "\n",
    "print(f\"Accuracy Train: {acc_train:.4f}\")\n",
    "print(f\"Accuracy Test: {acc_test:.4f}\")"
   ]
  },
  {
   "cell_type": "code",
   "execution_count": 39,
   "metadata": {},
   "outputs": [
    {
     "name": "stdout",
     "output_type": "stream",
     "text": [
      "Training:\n",
      "Sensitivity: 0.0\n",
      "Specificity: 1.0\n",
      "Testing:\n",
      "Sensitivity: 0.0\n",
      "Specificity: 1.0\n"
     ]
    }
   ],
   "source": [
    "from sklearn.metrics import confusion_matrix\n",
    "# Create sensitivity and specificity calc\n",
    "def sens_spec_calc(y_pred, y_true):\n",
    "    # Create confusion_matrix\n",
    "    tn, fp, fn, tp = confusion_matrix(y_true, y_pred).ravel()\n",
    "    \n",
    "    # Calc Sens and Spec\n",
    "    sens = tp/(tp+fn)\n",
    "    spec = tn/(tn+fp)\n",
    "    \n",
    "    print(\"Sensitivity:\", sens)\n",
    "    print(\"Specificity:\", spec)\n",
    "\n",
    "print(\"Training:\")\n",
    "sens_spec_calc(y_pred=y_pred_train, y_true=y_train)\n",
    "print(\"Testing:\")\n",
    "sens_spec_calc(y_pred=y_pred_test, y_true=y_test)"
   ]
  },
  {
   "cell_type": "markdown",
   "metadata": {},
   "source": [
    "We can see how the model is not overfitting the data at all. The train and testing sets are nearly identical performances. Let see if an OLS model can do better."
   ]
  },
  {
   "cell_type": "code",
   "execution_count": 52,
   "metadata": {},
   "outputs": [
    {
     "data": {
      "image/png": "[encoded data removed]",
      "text/plain": [
       "<Figure size 600x400 with 1 Axes>"
      ]
     },
     "metadata": {},
     "output_type": "display_data"
    }
   ],
   "source": [
    "from sklearn.metrics import roc_curve, roc_auc_score\n",
    "import numpy as np\n",
    "\n",
    "# Make ROC curve \n",
    "fpr, tpr, thresholds = roc_curve(y_test, y_pred_prob_test)\n",
    "roc_auc = roc_auc_score(y_test, y_pred_prob_test)\n",
    "\n",
    "# Ideal model: Perfect separation\n",
    "ideal_fpr = np.linspace(0, 1, 100)\n",
    "ideal_tpr = np.concatenate(([0], np.ones(99)))\n",
    "\n",
    "plt.figure(figsize=(6,4), facecolor='white')\n",
    "plt.plot(fpr, tpr, color='darkorange', lw=2, label=f'ROC Logistic (AUC = {roc_auc:.2f})')\n",
    "plt.plot([0, 1], [0, 1], color='navy', lw=2, linestyle='--', label='No Diagnostic Ability (AUC = 0.50)') # Model with no diagnostic ability/reference\n",
    "plt.plot(ideal_fpr, ideal_tpr, color='green', lw=2, linestyle='-', label='Ideal Model (AUC = 1.00)')\n",
    "plt.xlabel('False Positive Rate')\n",
    "plt.ylabel('True Positive Rate')\n",
    "plt.title('Receiver Operating Characteristic (ROC) Curve')\n",
    "plt.legend(loc=\"upper center\", bbox_to_anchor=(0.5, -0.15), ncol=2)\n",
    "plt.show()"
   ]
  },
  {
   "cell_type": "markdown",
   "metadata": {},
   "source": [
    "## OLS Model"
   ]
  },
  {
   "cell_type": "code",
   "execution_count": 61,
   "metadata": {},
   "outputs": [
    {
     "name": "stdout",
     "output_type": "stream",
     "text": [
      "                            OLS Regression Results                            \n",
      "==============================================================================\n",
      "Dep. Variable:                 switch   R-squared:                       0.007\n",
      "Model:                            OLS   Adj. R-squared:                  0.007\n",
      "Method:                 Least Squares   F-statistic:                     1558.\n",
      "Date:                Fri, 15 Nov 2024   Prob (F-statistic):               0.00\n",
      "Time:                        13:57:17   Log-Likelihood:            -3.6729e+05\n",
      "No. Observations:              871660   AIC:                         7.346e+05\n",
      "Df Residuals:                  871655   BIC:                         7.346e+05\n",
      "Df Model:                           4                                         \n",
      "Covariance Type:            nonrobust                                         \n",
      "==============================================================================\n",
      "                 coef    std err          t      P>|t|      [0.025      0.975]\n",
      "------------------------------------------------------------------------------\n",
      "const          0.1638      0.000    414.731      0.000       0.163       0.165\n",
      "E6             0.0016      0.000      4.064      0.000       0.001       0.002\n",
      "isUnstruct     0.0277      0.000     69.411      0.000       0.027       0.028\n",
      "Vkbat          0.0171      0.000     43.028      0.000       0.016       0.018\n",
      "Residue       -0.0016      0.000     -4.136      0.000      -0.002      -0.001\n",
      "==============================================================================\n",
      "Omnibus:                   250584.633   Durbin-Watson:                   1.998\n",
      "Prob(Omnibus):                  0.000   Jarque-Bera (JB):           530068.167\n",
      "Skew:                           1.798   Prob(JB):                         0.00\n",
      "Kurtosis:                       4.288   Cond. No.                         1.15\n",
      "==============================================================================\n",
      "\n",
      "Notes:\n",
      "[1] Standard Errors assume that the covariance matrix of the errors is correctly specified.\n",
      "\n"
     ]
    }
   ],
   "source": [
    "# Create OLS model \n",
    "ols = sm.OLS(y_train, X_train)\n",
    "\n",
    "# Obtain result\n",
    "ols_result = ols.fit()\n",
    "\n",
    "# Print summary \n",
    "print(ols_result.summary())\n",
    "print()"
   ]
  },
  {
   "cell_type": "markdown",
   "metadata": {},
   "source": [
    "# Explore Ensemble Models"
   ]
  },
  {
   "cell_type": "markdown",
   "metadata": {},
   "source": [
    "The models do not perform that well in general. The ROC curve for the Logistic is not great. Perhaps we need a more complex model here. "
   ]
  },
  {
   "cell_type": "code",
   "execution_count": 67,
   "metadata": {},
   "outputs": [
    {
     "name": "stdout",
     "output_type": "stream",
     "text": [
      "Training Logistic Regression...\n",
      "Logistic Regression Best Score: 0.8362056306357983\n",
      "Training Random Forest...\n",
      "Random Forest Best Score: 0.8006447468049469\n",
      "Training Support Vector Machine...\n",
      "Support Vector Machine Best Score: 0.8362056306357983\n",
      "Training Naive Bayes...\n",
      "Naive Bayes Best Score: 0.8360496064979465\n",
      "Training XGBoost...\n",
      "XGBoost Best Score: 0.8361597411834889\n",
      "Training AdaBoost...\n"
     ]
    },
    {
     "name": "stderr",
     "output_type": "stream",
     "text": [
      "c:\\Users\\delga\\anaconda3\\envs\\descriptors_env\\Lib\\site-packages\\sklearn\\ensemble\\_weight_boosting.py:527: FutureWarning: The SAMME.R algorithm (the default) is deprecated and will be removed in 1.6. Use the SAMME algorithm to circumvent this warning.\n",
      "  warnings.warn(\n"
     ]
    },
    {
     "name": "stdout",
     "output_type": "stream",
     "text": [
      "AdaBoost Best Score: 0.8362056306357983\n",
      "\n",
      "Summary of Results:\n",
      "Logistic Regression: Best Score = 0.8362\n",
      "Random Forest: Best Score = 0.8006\n",
      "Support Vector Machine: Best Score = 0.8362\n",
      "Naive Bayes: Best Score = 0.8360\n",
      "XGBoost: Best Score = 0.8362\n",
      "AdaBoost: Best Score = 0.8362\n"
     ]
    }
   ],
   "source": [
    "# Create exploration\n",
    "# Define the models and their parameters\n",
    "random_state = 42\n",
    "\n",
    "models = {\n",
    "    'Logistic Regression': {\n",
    "        'model': LogisticRegression(random_state=random_state),\n",
    "        'params': {}\n",
    "    },\n",
    "    'Random Forest': {\n",
    "        'model': RandomForestClassifier(random_state=random_state),\n",
    "        'params': {}\n",
    "    },\n",
    "    'Support Vector Machine': {\n",
    "        'model': SVC(random_state=random_state),\n",
    "        'params': {}\n",
    "    },\n",
    "    'Naive Bayes': {\n",
    "        'model': GaussianNB(),\n",
    "        'params': {}\n",
    "    },\n",
    "    'XGBoost': {\n",
    "        'model': XGBClassifier(random_state=random_state),\n",
    "        'params': {}\n",
    "    },\n",
    "    'AdaBoost': {\n",
    "        'model': AdaBoostClassifier(random_state=random_state),\n",
    "        'params': {}\n",
    "    }\n",
    "}\n",
    "\n",
    "# Iterate over models and evaluate\n",
    "best_models = {}\n",
    "\n",
    "for model_name, config in models.items():\n",
    "    print(f\"Training {model_name}...\")\n",
    "    \n",
    "    # Create a pipeline\n",
    "    pipeline = Pipeline([\n",
    "        ('model', config['model'])    # The model\n",
    "    ])\n",
    "    \n",
    "    # Perform grid search\n",
    "    grid = GridSearchCV(pipeline, config['params'], cv=5, scoring='accuracy', n_jobs=-1)\n",
    "    grid.fit(X_train, y_train)\n",
    "    \n",
    "    # Save the best model and its score\n",
    "    best_models[model_name] = {\n",
    "        'best_estimator': grid.best_estimator_,\n",
    "        'best_score': grid.best_score_\n",
    "    }\n",
    "    print(f\"{model_name} Best Score: {grid.best_score_}\")\n",
    "\n",
    "# Print summary of results\n",
    "print(\"\\nSummary of Results:\")\n",
    "for model_name, results in best_models.items():\n",
    "    print(f\"{model_name}: Best Score = {results['best_score']:.4f}\")"
   ]
  },
  {
   "cell_type": "markdown",
   "metadata": {},
   "source": [
    "The SVM took way too long. We should not explore this method as its returned accuracy was about the same as the others."
   ]
  }
 ],
 "metadata": {
  "kernelspec": {
   "display_name": "descriptors_env",
   "language": "python",
   "name": "python3"
  },
  "language_info": {
   "codemirror_mode": {
    "name": "ipython",
    "version": 3
   },
   "file_extension": ".py",
   "mimetype": "text/x-python",
   "name": "python",
   "nbconvert_exporter": "python",
   "pygments_lexer": "ipython3",
   "version": "3.12.7"
  }
 },
 "nbformat": 4,
 "nbformat_minor": 2
}
